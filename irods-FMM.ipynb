{
 "cells": [
  {
   "cell_type": "code",
   "execution_count": 2,
   "id": "c8247966-8719-46f4-9bec-20ecefcddbb6",
   "metadata": {},
   "outputs": [
    {
     "name": "stdout",
     "output_type": "stream",
     "text": [
      "Collecting python-irodsclient\n",
      "  Downloading python_irodsclient-1.1.9-py2.py3-none-any.whl (213 kB)\n",
      "     -------------------------------------- 214.0/214.0 kB 4.3 MB/s eta 0:00:00\n",
      "Collecting PrettyTable>=0.7.2\n",
      "  Downloading prettytable-3.9.0-py3-none-any.whl (27 kB)\n",
      "Requirement already satisfied: defusedxml in c:\\users\\fmaghsoudimoud\\appdata\\local\\anaconda3\\lib\\site-packages (from python-irodsclient) (0.7.1)\n",
      "Requirement already satisfied: six>=1.10.0 in c:\\users\\fmaghsoudimoud\\appdata\\local\\anaconda3\\lib\\site-packages (from python-irodsclient) (1.16.0)\n",
      "Requirement already satisfied: wcwidth in c:\\users\\fmaghsoudimoud\\appdata\\local\\anaconda3\\lib\\site-packages (from PrettyTable>=0.7.2->python-irodsclient) (0.2.5)\n",
      "Installing collected packages: PrettyTable, python-irodsclient\n",
      "Successfully installed PrettyTable-3.9.0 python-irodsclient-1.1.9\n",
      "Note: you may need to restart the kernel to use updated packages.\n"
     ]
    }
   ],
   "source": [
    "pip install python-irodsclient"
   ]
  },
  {
   "cell_type": "code",
   "execution_count": 1,
   "id": "bc83cf5b-93a3-458e-8b49-37ba85b067f7",
   "metadata": {},
   "outputs": [],
   "source": [
    "from irods.session import iRODSSession\n",
    "from irods.models import Collection, DataObject"
   ]
  },
  {
   "cell_type": "code",
   "execution_count": 2,
   "id": "74ed3261-48e7-4e56-a8fc-9709c1bb6b64",
   "metadata": {},
   "outputs": [],
   "source": [
    "# Set up your iRODS connection details\n",
    "username = 'rods'\n",
    "password = 'rods'\n",
    "host = '13.48.177.204'\n",
    "port = 3000  # default port for iRODS\n",
    "zone = 'tempZone'"
   ]
  },
  {
   "cell_type": "code",
   "execution_count": 3,
   "id": "005a4267-acdf-4d6b-9ae1-27d668b633ff",
   "metadata": {},
   "outputs": [
    {
     "name": "stderr",
     "output_type": "stream",
     "text": [
      "CRITICAL:irods.connection:timed out\n",
      "ERROR:irods.connection:Could not receive server response\n"
     ]
    },
    {
     "name": "stdout",
     "output_type": "stream",
     "text": [
      "Error connecting to iRODS: Could not receive server response\n"
     ]
    }
   ],
   "source": [
    "new_collection_path = '/tempZone/home/Fardad'  # Replace with your desired collection path\n",
    "\n",
    "try:\n",
    "    # Create an iRODS session\n",
    "    with iRODSSession(host=host, port=port, user=username, password=password, zone=zone, timeout=60) as session:\n",
    "        # List collections (directories)\n",
    "        collections = session.collections.get(new_collection_path)\n",
    "        if collections:\n",
    "            for collection in collections:\n",
    "                print(collection.path)\n",
    "        else:\n",
    "            print(f\"Collection does not exist or insufficient permissions: {new_collection_path}\")\n",
    "except Exception as e:\n",
    "    print(f\"Error connecting to iRODS: {e}\")"
   ]
  },
  {
   "cell_type": "code",
   "execution_count": null,
   "id": "50989277-131d-422c-a94d-bdf80c492bfa",
   "metadata": {},
   "outputs": [],
   "source": []
  }
 ],
 "metadata": {
  "kernelspec": {
   "display_name": "Python 3 (ipykernel)",
   "language": "python",
   "name": "python3"
  },
  "language_info": {
   "codemirror_mode": {
    "name": "ipython",
    "version": 3
   },
   "file_extension": ".py",
   "mimetype": "text/x-python",
   "name": "python",
   "nbconvert_exporter": "python",
   "pygments_lexer": "ipython3",
   "version": "3.10.9"
  }
 },
 "nbformat": 4,
 "nbformat_minor": 5
}
